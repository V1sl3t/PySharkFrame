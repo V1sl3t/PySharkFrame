{
 "cells": [
  {
   "cell_type": "code",
   "execution_count": 1,
   "id": "503c2326-36e5-4099-8f29-a168cab7ce70",
   "metadata": {},
   "outputs": [],
   "source": [
    "import findspark\n",
    "findspark.init()\n",
    "import pyspark"
   ]
  },
  {
   "cell_type": "code",
   "execution_count": 2,
   "id": "0e4b788a-55c5-4516-a67f-43b23c597258",
   "metadata": {},
   "outputs": [],
   "source": [
    "from pyspark.sql import SparkSession\n",
    "\n",
    "spark = SparkSession.builder.getOrCreate()"
   ]
  },
  {
   "cell_type": "code",
   "execution_count": 11,
   "id": "868701cc-3e1b-4a05-beb8-30279b290d41",
   "metadata": {},
   "outputs": [],
   "source": [
    "spark.conf.set('spark.sql.repl.eagerEval.enabled', True)"
   ]
  },
  {
   "cell_type": "code",
   "execution_count": 24,
   "id": "6d97f2d6-2fb8-4660-a8e1-ec68ed0af090",
   "metadata": {},
   "outputs": [
    {
     "data": {
      "text/html": [
       "<table border='1'>\n",
       "<tr><th>product_name</th><th>category_name</th></tr>\n",
       "<tr><td>product1</td><td>category3</td></tr>\n",
       "<tr><td>product1</td><td>category2</td></tr>\n",
       "<tr><td>product1</td><td>category1</td></tr>\n",
       "<tr><td>product2</td><td>category3</td></tr>\n",
       "<tr><td>product2</td><td>category2</td></tr>\n",
       "<tr><td>product3</td><td>category2</td></tr>\n",
       "<tr><td>product3</td><td>category1</td></tr>\n",
       "<tr><td>product4</td><td>category3</td></tr>\n",
       "<tr><td>product5</td><td>NULL</td></tr>\n",
       "</table>\n"
      ],
      "text/plain": [
       "+------------+-------------+\n",
       "|product_name|category_name|\n",
       "+------------+-------------+\n",
       "|    product1|    category3|\n",
       "|    product1|    category2|\n",
       "|    product1|    category1|\n",
       "|    product2|    category3|\n",
       "|    product2|    category2|\n",
       "|    product3|    category2|\n",
       "|    product3|    category1|\n",
       "|    product4|    category3|\n",
       "|    product5|         NULL|\n",
       "+------------+-------------+"
      ]
     },
     "execution_count": 24,
     "metadata": {},
     "output_type": "execute_result"
    }
   ],
   "source": [
    "from datetime import datetime, date\n",
    "products = spark.createDataFrame([\n",
    "    (1,'product1'),\n",
    "    (2,'product2'),\n",
    "    (3,'product3'),\n",
    "    (4,'product4'),\n",
    "    (5,'product5')\n",
    "], schema='product_id int, product_name string')\n",
    "categories = spark.createDataFrame([\n",
    "    (1,'category1'),\n",
    "    (1,'category2'),\n",
    "    (1,'category3'),\n",
    "    (2,'category2'),\n",
    "    (2,'category3'),\n",
    "    (3,'category1'),\n",
    "    (3,'category2'),\n",
    "    (4,'category3')\n",
    "], schema='product_id int, category_name string')\n",
    "df = products.join(categories, \"product_id\", \"left\").select(\"product_name\", \"category_name\")\n",
    "df"
   ]
  }
 ],
 "metadata": {
  "kernelspec": {
   "display_name": "Python 3 (ipykernel)",
   "language": "python",
   "name": "python3"
  },
  "language_info": {
   "codemirror_mode": {
    "name": "ipython",
    "version": 3
   },
   "file_extension": ".py",
   "mimetype": "text/x-python",
   "name": "python",
   "nbconvert_exporter": "python",
   "pygments_lexer": "ipython3",
   "version": "3.11.9"
  }
 },
 "nbformat": 4,
 "nbformat_minor": 5
}
